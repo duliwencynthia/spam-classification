{
 "cells": [
  {
   "cell_type": "code",
   "execution_count": 5,
   "metadata": {},
   "outputs": [],
   "source": [
    "from sklearn.linear_model import LogisticRegression\n",
    "import pandas as pd\n",
    "from sklearn.model_selection import train_test_split\n",
    "from sklearn.model_selection import KFold\n",
    "from sklearn.metrics import classification_report\n",
    "from sklearn.model_selection import cross_val_score\n",
    "from sklearn.metrics import confusion_matrix\n",
    "import numpy as np"
   ]
  },
  {
   "cell_type": "code",
   "execution_count": 6,
   "metadata": {},
   "outputs": [],
   "source": [
    "def read_csv_data():\n",
    "    df = pd.read_csv(\"spam_raw_data.csv\",header=None)#imput spam data\n",
    "    X_data = df.iloc[:,0:57]\n",
    "    y_data = df.iloc[:,[57]]\n",
    "    return np.array(X_data),np.array(y_data)\n",
    "    #Define a function to imput spam data"
   ]
  },
  {
   "cell_type": "code",
   "execution_count": 7,
   "metadata": {
    "scrolled": false
   },
   "outputs": [
    {
     "name": "stdout",
     "output_type": "stream",
     "text": [
      "[[361  21]\n",
      " [ 29 206]]\n",
      "0.08103727714748787\n",
      "0.9256410256410257\n",
      "0.9450261780104712\n",
      "[[354  25]\n",
      " [ 20 218]]\n",
      "0.07293354943273911\n",
      "0.946524064171123\n",
      "0.9340369393139841\n",
      "[[366  17]\n",
      " [ 38 195]]\n",
      "0.0892857142857143\n",
      "0.905940594059406\n",
      "0.9556135770234987\n",
      "[[363  20]\n",
      " [ 27 206]]\n",
      "0.07629870129870131\n",
      "0.9307692307692308\n",
      "0.9477806788511749\n",
      "[[363  12]\n",
      " [ 30 211]]\n",
      "0.06818181818181823\n",
      "0.9236641221374046\n",
      "0.968\n"
     ]
    }
   ],
   "source": [
    "if __name__ == \"__main__\":\n",
    "    X_data,y_data = read_csv_data()\n",
    "    y_data = np.array([x[0] for x in y_data])\n",
    "    X_train_org, X_test_org, y_train_org, y_test_org = train_test_split(X_data, y_data, test_size=0.33, random_state=42)\n",
    "    #Randomly divide data into train sets and test sets\n",
    "    lr = LogisticRegression(solver='liblinear')\n",
    "    #Classify spam by logistic regression classification\n",
    "    kf = KFold(n_splits=5,shuffle=True)\n",
    "    #K-Fold cross validation function\n",
    "    #K-Fold cross validation\n",
    "    for train_index, test_index in kf.split(X_train_org):\n",
    "        X_train, X_test = X_train_org[train_index], X_train_org[test_index]\n",
    "        y_train, y_test = y_train_org[train_index], y_train_org[test_index]\n",
    "        #Divide train sets into 5\n",
    "        lr.fit(X_train,y_train)\n",
    "        #Classify the train sets\n",
    "        y_pred = lr.predict(X_test)  \n",
    "        # y_test <--> y_true #Predict function\n",
    "        # print(classification_report(y_test,y_pred))\n",
    "        print(confusion_matrix(y_test,y_pred,labels=[0,1]))\n",
    "        t = np.sum(y_pred == y_test) / len(y_test)\n",
    "        print((1-t))\n",
    "        #Output error rates\n",
    "        cm = confusion_matrix(y_test,y_pred,labels=[0,1])\n",
    "        TP, TN, FN, FP = cm[0,0], cm[1,1], cm[0,1], cm[1,0]\n",
    "        print(TP / (TP+FP))\n",
    "        #Output precision\n",
    "        print(TP / (TP+FN))\n",
    "        #Output recall"
   ]
  },
  {
   "cell_type": "code",
   "execution_count": null,
   "metadata": {},
   "outputs": [],
   "source": []
  }
 ],
 "metadata": {
  "kernelspec": {
   "display_name": "Python 3",
   "language": "python",
   "name": "python3"
  },
  "language_info": {
   "codemirror_mode": {
    "name": "ipython",
    "version": 3
   },
   "file_extension": ".py",
   "mimetype": "text/x-python",
   "name": "python",
   "nbconvert_exporter": "python",
   "pygments_lexer": "ipython3",
   "version": "3.6.5"
  }
 },
 "nbformat": 4,
 "nbformat_minor": 2
}
